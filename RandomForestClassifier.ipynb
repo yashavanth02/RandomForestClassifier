{
 "cells": [
  {
   "cell_type": "code",
   "execution_count": 2,
   "id": "a12df46b",
   "metadata": {},
   "outputs": [
    {
     "name": "stdout",
     "output_type": "stream",
     "text": [
      "Accuracy= 0.9333333333333333\n",
      "Confsuion Matrix= [[13  0  0]\n",
      " [ 0 12  3]\n",
      " [ 0  0 17]]\n"
     ]
    }
   ],
   "source": [
    "from sklearn.datasets import load_iris\n",
    "from sklearn.ensemble import RandomForestClassifier\n",
    "from sklearn.model_selection import train_test_split\n",
    "from sklearn.metrics import accuracy_score,confusion_matrix\n",
    "rnd_clf = RandomForestClassifier(n_estimators=500,max_leaf_nodes =16,\n",
    "n_jobs = -1)\n",
    "iris = load_iris()\n",
    "x = iris.data[:,:]\n",
    "y = iris.target\n",
    "x_train,x_test,y_train,y_test=train_test_split(x,y,test_size=0.3)\n",
    "rnd_clf.fit(x_train,y_train)\n",
    "y_pred = rnd_clf.predict(x_test)\n",
    "print(\"Accuracy=\",accuracy_score(y_test,y_pred))\n",
    "print(\"Confsuion Matrix=\",confusion_matrix(y_test,y_pred))"
   ]
  },
  {
   "cell_type": "code",
   "execution_count": null,
   "id": "fd1c837e",
   "metadata": {},
   "outputs": [],
   "source": []
  }
 ],
 "metadata": {
  "kernelspec": {
   "display_name": "Python 3 (ipykernel)",
   "language": "python",
   "name": "python3"
  },
  "language_info": {
   "codemirror_mode": {
    "name": "ipython",
    "version": 3
   },
   "file_extension": ".py",
   "mimetype": "text/x-python",
   "name": "python",
   "nbconvert_exporter": "python",
   "pygments_lexer": "ipython3",
   "version": "3.10.9"
  }
 },
 "nbformat": 4,
 "nbformat_minor": 5
}
